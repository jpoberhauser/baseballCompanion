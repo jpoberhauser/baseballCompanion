{
 "cells": [
  {
   "cell_type": "markdown",
   "id": "940c2053",
   "metadata": {},
   "source": [
    "## Downloading and Transcribing a Youtube CLIP"
   ]
  },
  {
   "cell_type": "code",
   "execution_count": 6,
   "id": "eac08009",
   "metadata": {},
   "outputs": [],
   "source": [
    "from faster_whisper import WhisperModel\n",
    "import yt_dlp\n",
    "import os"
   ]
  },
  {
   "cell_type": "code",
   "execution_count": 17,
   "id": "4eba89cf",
   "metadata": {},
   "outputs": [],
   "source": [
    "def download_audio(youtube_url, out_dir=\"downloads\"):\n",
    "    os.makedirs(out_dir, exist_ok=True)\n",
    "    ydl_opts = {\n",
    "        'format': 'bestaudio/best',\n",
    "        'outtmpl': f'{out_dir}/%(id)s.%(ext)s',\n",
    "        'postprocessors': [{\n",
    "            'key': 'FFmpegExtractAudio',\n",
    "            'preferredcodec': 'mp3',\n",
    "        }]\n",
    "    }\n",
    "    with yt_dlp.YoutubeDL(ydl_opts) as ydl:\n",
    "        info = ydl.extract_info(youtube_url, download=True)\n",
    "        return f\"{out_dir}/{info['id']}.mp3\", info['id']\n",
    "    \n",
    "def transcribe(audio_path, model_size=\"medium\", output_dir=\"transcripts\"):\n",
    "    model = WhisperModel(model_size, compute_type=\"int8\")\n",
    "    segments, _ = model.transcribe(audio_path)\n",
    "    os.makedirs(output_dir, exist_ok=True)\n",
    "    text_chunks = []\n",
    "    for seg in segments:\n",
    "        text_chunks.append({\n",
    "            \"start\": seg.start,\n",
    "            \"end\": seg.end,\n",
    "            \"text\": seg.text\n",
    "        })\n",
    "\n",
    "    output_path = os.path.join(output_dir, os.path.basename(audio_path).replace(\".mp3\", \".txt\"))\n",
    "    with open(output_path, \"w\") as f:\n",
    "        for chunk in text_chunks:\n",
    "            f.write(f\"{chunk['text']}\\n\")\n",
    "\n",
    "    print(f\"Transcription saved to: {output_path}\")\n",
    "    return None"
   ]
  },
  {
   "cell_type": "code",
   "execution_count": 19,
   "id": "a56df9a4",
   "metadata": {},
   "outputs": [
    {
     "name": "stdout",
     "output_type": "stream",
     "text": [
      "[youtube] Extracting URL: https://www.youtube.com/watch?v=b5-xIieufYs\n",
      "[youtube] b5-xIieufYs: Downloading webpage\n",
      "[youtube] b5-xIieufYs: Downloading tv client config\n",
      "[youtube] b5-xIieufYs: Downloading tv player API JSON\n",
      "[youtube] b5-xIieufYs: Downloading ios player API JSON\n",
      "[youtube] b5-xIieufYs: Downloading m3u8 information\n",
      "[info] b5-xIieufYs: Downloading 1 format(s): 251\n",
      "[download] Destination: /Users/jpoberhauser/Downloads//b5-xIieufYs.webm\n",
      "[download] 100% of   52.21MiB in 00:00:01 at 29.55MiB/s    \n",
      "[ExtractAudio] Destination: /Users/jpoberhauser/Downloads//b5-xIieufYs.mp3\n",
      "Deleting original file /Users/jpoberhauser/Downloads//b5-xIieufYs.webm (pass -k to keep)\n"
     ]
    },
    {
     "data": {
      "text/plain": [
       "('~/Downloads//b5-xIieufYs.mp3', 'b5-xIieufYs')"
      ]
     },
     "execution_count": 19,
     "metadata": {},
     "output_type": "execute_result"
    }
   ],
   "source": [
    "download_audio('https://www.youtube.com/watch?v=b5-xIieufYs', out_dir = '~/Downloads/')"
   ]
  },
  {
   "cell_type": "markdown",
   "id": "2d453ec9",
   "metadata": {},
   "source": [
    "This is example is a 24 minute youtube clip and it gets compeltey transcribed in ~13 minutes using the medium model and in using the small model ~5 minutes"
   ]
  },
  {
   "cell_type": "code",
   "execution_count": 20,
   "id": "29f2e6fd",
   "metadata": {},
   "outputs": [
    {
     "name": "stdout",
     "output_type": "stream",
     "text": [
      "Transcription saved to: /Users/jpoberhauser/Desktop/baseballCompanion/data/transcripts/b5-xIieufYs.txt\n"
     ]
    }
   ],
   "source": [
    "transcribe('/Users/jpoberhauser/Desktop/baseballCompanion/data/b5-xIieufYs.mp3',\n",
    "            model_size=\"small\", \n",
    "            output_dir=\"/Users/jpoberhauser/Desktop/baseballCompanion/data/transcripts/\")"
   ]
  },
  {
   "cell_type": "code",
   "execution_count": null,
   "id": "2b14bc06",
   "metadata": {},
   "outputs": [],
   "source": []
  }
 ],
 "metadata": {
  "kernelspec": {
   "display_name": "baseball-rag",
   "language": "python",
   "name": "python3"
  },
  "language_info": {
   "codemirror_mode": {
    "name": "ipython",
    "version": 3
   },
   "file_extension": ".py",
   "mimetype": "text/x-python",
   "name": "python",
   "nbconvert_exporter": "python",
   "pygments_lexer": "ipython3",
   "version": "3.10.17"
  }
 },
 "nbformat": 4,
 "nbformat_minor": 5
}
